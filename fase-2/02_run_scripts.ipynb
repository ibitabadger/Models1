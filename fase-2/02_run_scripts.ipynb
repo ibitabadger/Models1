{
 "cells": [
  {
   "cell_type": "code",
   "execution_count": null,
   "id": "4a9938e9",
   "metadata": {},
   "outputs": [],
   "source": [
    "import sys\n",
    "import pandas as pd\n",
    "import numpy as np\n",
    "\n",
    "train_data_file  = 'train.csv'\n",
    "test_data_file   = 'test.csv'\n",
    "test_input_file  = 'test_data_input.csv'\n",
    "test_target_file = 'test_data_target.csv'\n",
    "test_preds_file  = 'test_predictions.csv'\n",
    "model_file       = 'model.pkl'\n",
    "python = sys.executable\n",
    "!$python train.py --model_file $model_file --input_file $train_data_input --target_file $train_data_target --overwrite_model\n",
    "!$python predict.py --model_file $model_file --input_file $test_input_file  --predictions_file $test_preds_file\n",
    "preds   = pd.read_csv(test_preds_file).values\n",
    "targets = pd.read_csv(test_target_file).values\n",
    "\n",
    "acc = np.mean(preds==targets)\n",
    "print (f\"accuracy on test {acc:.3f}\")"
   ]
  }
 ],
 "metadata": {
  "kernelspec": {
   "display_name": "Python 3",
   "language": "python",
   "name": "python3"
  },
  "language_info": {
   "codemirror_mode": {
    "name": "ipython",
    "version": 3
   },
   "file_extension": ".py",
   "mimetype": "text/x-python",
   "name": "python",
   "nbconvert_exporter": "python",
   "pygments_lexer": "ipython3",
   "version": "3.11.5"
  }
 },
 "nbformat": 4,
 "nbformat_minor": 5
}
