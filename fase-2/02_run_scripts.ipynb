{
 "cells": [
  {
   "cell_type": "code",
   "execution_count": 11,
   "id": "4a9938e9",
   "metadata": {},
   "outputs": [
    {
     "name": "stderr",
     "output_type": "stream",
     "text": [
      "usage: train.py [-h] --data_file DATA_FILE --test_data_input TEST_DATA_INPUT\n",
      "                --test_data_target TEST_DATA_TARGET --model_file MODEL_FILE\n",
      "                [--overwrite_model]\n",
      "train.py: error: the following arguments are required: --data_file, --test_data_input, --test_data_target\n"
     ]
    }
   ],
   "source": [
    "import sys\n",
    "import pandas as pd\n",
    "import numpy as np\n",
    "\n",
    "train_data_file  = 'train.csv'\n",
    "test_data_file   = 'test.csv'\n",
    "test_input_file  = 'test_data_input.csv'\n",
    "test_target_file = 'test_data_target.csv'\n",
    "predictions  = 'predictions_file.csv'\n",
    "model_file       = 'model.pkl'\n",
    "python = sys.executable\n",
    "!python train.py --model_file $model_file --input_file $train_data_input --target_file $train_data_target --overwrite_model\n"
   ]
  },
  {
   "cell_type": "code",
   "execution_count": 12,
   "id": "d762ea98",
   "metadata": {},
   "outputs": [
    {
     "name": "stdout",
     "output_type": "stream",
     "text": [
      "accuracy on test 0.000\n"
     ]
    },
    {
     "name": "stderr",
     "output_type": "stream",
     "text": [
      "\u001b[32m2024-05-01 16:00:47.406\u001b[0m | \u001b[1mINFO    \u001b[0m | \u001b[36m__main__\u001b[0m:\u001b[36m<module>\u001b[0m:\u001b[36m29\u001b[0m - \u001b[1mloading input data\u001b[0m\n",
      "\u001b[32m2024-05-01 16:00:47.420\u001b[0m | \u001b[1mINFO    \u001b[0m | \u001b[36m__main__\u001b[0m:\u001b[36m<module>\u001b[0m:\u001b[36m33\u001b[0m - \u001b[1mloading model\u001b[0m\n",
      "\u001b[32m2024-05-01 16:00:48.303\u001b[0m | \u001b[1mINFO    \u001b[0m | \u001b[36m__main__\u001b[0m:\u001b[36m<module>\u001b[0m:\u001b[36m37\u001b[0m - \u001b[1mmaking predictions\u001b[0m\n",
      "\u001b[32m2024-05-01 16:00:48.451\u001b[0m | \u001b[1mINFO    \u001b[0m | \u001b[36m__main__\u001b[0m:\u001b[36m<module>\u001b[0m:\u001b[36m42\u001b[0m - \u001b[1msaving predictions to predictions_file.csv\u001b[0m\n"
     ]
    }
   ],
   "source": [
    "!python predict.py --model_file $model_file --input_file $test_input_file --input_file_target $test_target_file --predictions_file $predictions\n",
    "preds   = pd.read_csv(predictions).values\n",
    "targets = pd.read_csv(test_target_file).values\n",
    "\n",
    "acc = np.mean(preds==targets)\n",
    "print (f\"accuracy on test {acc:.3f}\")"
   ]
  }
 ],
 "metadata": {
  "kernelspec": {
   "display_name": "Python 3",
   "language": "python",
   "name": "python3"
  },
  "language_info": {
   "codemirror_mode": {
    "name": "ipython",
    "version": 3
   },
   "file_extension": ".py",
   "mimetype": "text/x-python",
   "name": "python",
   "nbconvert_exporter": "python",
   "pygments_lexer": "ipython3",
   "version": "3.11.5"
  }
 },
 "nbformat": 4,
 "nbformat_minor": 5
}
